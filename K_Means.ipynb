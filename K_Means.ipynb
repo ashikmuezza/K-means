{
  "nbformat": 4,
  "nbformat_minor": 0,
  "metadata": {
    "colab": {
      "name": "K Means.ipynb",
      "provenance": [],
      "collapsed_sections": []
    },
    "kernelspec": {
      "name": "python3",
      "display_name": "Python 3"
    },
    "language_info": {
      "name": "python"
    }
  },
  "cells": [
    {
      "cell_type": "code",
      "metadata": {
        "id": "ikXLWWtjsJsY",
        "colab": {
          "base_uri": "https://localhost:8080/",
          "height": 459
        },
        "outputId": "a4c0bd8f-fd15-4b9a-c773-df6d50ee2375"
      },
      "source": [
        "import pandas as pd\n",
        "import matplotlib.pyplot as plt\n",
        "import numpy as np\n",
        "\n",
        "#helper functions\n",
        "\n",
        "def init_centroids(k,x):\n",
        "  arr = []\n",
        "  for i in range(k):\n",
        "    cx1 = np.random.uniform(min(x),max(x))\n",
        "    arr.append(cx1)\n",
        "  return np.asarray(arr)\n",
        "  \n",
        "def euclidean_distance(x1, x2):\n",
        "  return np.sqrt(np.sum((x1 - x2) ** 2))\n",
        "\n",
        "def assign_cluster(k,x,cg):\n",
        "  cluster = [-1]*len(x)\n",
        "  for i in range(len(x)):\n",
        "    dist_arr = []\n",
        "    for j in range(k):\n",
        "      dist_arr.append(euclidean_distance(x[i],cg[j]))\n",
        "      idx = np.argmin(dist_arr)\n",
        "      cluster[i] = idx\n",
        "  return np.asarray(cluster)  \n",
        "\n",
        "def compute_centroids(k, X, cluster):\n",
        "  cg_arr = []\n",
        "  for i in range(k):\n",
        "      arr = []\n",
        "      for j in range(len(X)):\n",
        "          if cluster[j]==i:\n",
        "              arr.append(X[j])\n",
        "      cg_arr.append(np.mean(arr, axis=0))\n",
        "  return np.asarray(cg_arr)\n",
        "\n",
        "def measure_change(cg_prev, cg_new):\n",
        "  res = 0\n",
        "  for a,b in zip(cg_prev,cg_new):\n",
        "    res+=euclidean_distance(a,b)\n",
        "  return res    \n",
        "\n",
        "def show_clusters(df):\n",
        "  fig, ax = plt.subplots(figsize=(8, 6))\n",
        "  df1 = df[df.continent == 0]\n",
        "  df2 = df[df.continent == 1]\n",
        "  df3 = df[df.continent == 2]\n",
        "  df4 = df[df.continent == 3]\n",
        "  ax.scatter(df1.Longitude,df1.Latitude,color = 'Red',label = 'Cluster 1')\n",
        "  ax.scatter(df2.Longitude,df2.Latitude,color = 'Black',label = 'Cluster 2')\n",
        "  ax.scatter(df3.Longitude,df3.Latitude,color = 'Blue',label = 'Cluster 3')\n",
        "  ax.scatter(df4.Longitude,df4.Latitude,color = 'Purple',label = 'Cluster 4')\n",
        "  plt.xlabel('Longitude')\n",
        "  plt.ylabel('Latitude')\n",
        "  plt.title('K-Means Clustering')\n",
        "  plt.legend(loc=\"upper right\")\n",
        "  plt.show()\n",
        "\n",
        "def kmeans(k,x):\n",
        "  cg_prev = init_centroids(k,x)\n",
        "  cluster = 0*len(x)\n",
        "  cg_change = 100\n",
        "  while cg_change > 0.001:\n",
        "      cluster = assign_cluster(k,x,cg_prev)\n",
        "      cg_new = compute_centroids(k,x,cluster) \n",
        "      cg_change = measure_change(cg_new, cg_prev)\n",
        "      print(cg_change)\n",
        "      cg_prev = cg_new   \n",
        "  return cluster  \n",
        "\n",
        "def main():\n",
        "  df = pd.read_csv('/content/Categorical.csv')\n",
        "  values = df.values.tolist()\n",
        "  df['continent'] = df.loc[:, 'continent'].map({'North America':0,'Europe':1,'Asia':2,'Africa':3,'South America':4, 'Oceania':5,'Seven seas (open ocean)':6, 'Antarctica':7})\n",
        "  data = df['continent']\n",
        "  np.random.seed(42)\n",
        "  k,x = 4,data.to_numpy()\n",
        "  cluster = kmeans(k,x)\n",
        "  df['continent'] = cluster\n",
        "  show_clusters(df)\n",
        "\n",
        "\n",
        "if __name__ == \"__main__\":\n",
        "  main()\n",
        "  \n"
      ],
      "execution_count": 137,
      "outputs": [
        {
          "output_type": "stream",
          "name": "stdout",
          "text": [
            "1.8494676169797013\n",
            "1.330356401299558\n",
            "0.0\n"
          ]
        },
        {
          "output_type": "display_data",
          "data": {
            "image/png": "[encoded data removed]",
            "text/plain": [
              "<Figure size 576x432 with 1 Axes>"
            ]
          },
          "metadata": {
            "needs_background": "light"
          }
        }
      ]
    },
    {
      "cell_type": "code",
      "source": [
        "\n",
        "import pandas as pd\n",
        "import numpy as np\n",
        "\n",
        "def init_centroids(x,k):\n",
        "  x = np.array(x)\n",
        "  arr = []\n",
        "  for i in range(k):\n",
        "    cx1 = np.random.uniform(min(x[:,0]),max(x[:,1]))\n",
        "    cx2 = np.random.uniform(min(x[:,0]),max(x[:,1]))\n",
        "    arr.append([cx1,cx2])  \n",
        "  return np.asarray(arr)\n",
        "\n",
        "def euclidean_distance(x,y):\n",
        "  return np.sqrt(np.sum(np.square(x-y)))\n",
        "    \n",
        "def assign_cluster(k,x,prev_centroids):\n",
        "   x = np.array(x)\n",
        "   cluster = []\n",
        "   for i in range(len(x)):\n",
        "     dist_arr = []\n",
        "     for j in range(k):\n",
        "      dist = euclidean_distance(x[i],prev_centroids[j])\n",
        "      dist_arr.append(dist)\n",
        "     min = np.argmin(dist_arr) \n",
        "     cluster.append(min)\n",
        "   return np.asarray(cluster)\n",
        "\n",
        "def measure_change(k,prev_centroids,new_centroids):\n",
        "  change = 0\n",
        "  for i in range(k):\n",
        "   change+= euclidean_distance(prev_centroids[i],new_centroids[i])\n",
        "  return change\n",
        "\n",
        "\n",
        "def compute_centroids(k,x,cluster):\n",
        "  new_centroids = []\n",
        "  x = np.array(x)\n",
        "  for i in range(k):\n",
        "    arr = []\n",
        "    for j in range(len(x)):\n",
        "      if i == cluster[j]:\n",
        "        arr.append(x[j])\n",
        "    centroids = np.mean(arr,axis = 0)\n",
        "    new_centroids.append(centroids) \n",
        "  return np.asarray(new_centroids)\n",
        "\n",
        "\n",
        "def show_clusters(k):\n",
        "  colors = [\"red\",\"blue\",\"yellow\",\"green\",\"purple\",\"black\"]\n",
        "  fig, ax = plt.subplots(figsize=(10, 8))\n",
        "  for i in range(k):\n",
        "    df1 = df[df.cluster == i]\n",
        "    for p in df1:\n",
        "      plt.scatter(df1.Longitude,df1.Latitude,color = colors[i] )\n",
        "\n",
        "  plt.xlabel('Longitude')\n",
        "  plt.ylabel('Latitude')\n",
        "  plt.title('K-Means Clustering')\n",
        "  plt.show()\n",
        "\n",
        "def kmeans(k,x):\n",
        "  \n",
        "  prev_centroids = init_centroids(x,k)\n",
        "  cluster_change = 100\n",
        "  while cluster_change > 0.001:\n",
        "    cluster = assign_cluster(k,x,prev_centroids)\n",
        "    new_centroids = compute_centroids(k,x,cluster)\n",
        "    cluster_change = measure_change(k,prev_centroids,new_centroids)\n",
        "    prev_centroids = new_centroids\n",
        "  df['cluster'] = cluster\n",
        "  show_clusters(k)\n",
        "\n",
        "df = pd.read_csv('/content/Categorical.csv')\n",
        "df = df.drop(['name','continent'],axis=1)\n",
        "df = df.dropna()\n",
        "print(len(df))\n",
        "k = 3\n",
        "np.random.seed(42)\n",
        "kmeans(k,df)\n"
      ],
      "metadata": {
        "colab": {
          "base_uri": "https://localhost:8080/",
          "height": 532
        },
        "id": "vZ3rPAW1wcVe",
        "outputId": "f12cec40-df5f-4606-f0b4-9a274525c1f2"
      },
      "execution_count": 140,
      "outputs": [
        {
          "output_type": "stream",
          "name": "stdout",
          "text": [
            "241\n"
          ]
        },
        {
          "output_type": "display_data",
          "data": {
            "image/png": "[encoded data removed]",
            "text/plain": [
              "<Figure size 720x576 with 1 Axes>"
            ]
          },
          "metadata": {
            "needs_background": "light"
          }
        }
      ]
    }
  ]
}